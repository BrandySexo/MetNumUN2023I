{
  "nbformat": 4,
  "nbformat_minor": 0,
  "metadata": {
    "colab": {
      "provenance": []
    },
    "kernelspec": {
      "name": "python3",
      "display_name": "Python 3"
    },
    "language_info": {
      "name": "python"
    }
  },
  "cells": [
    {
      "cell_type": "markdown",
      "source": [
        "**Quiz 4**"
      ],
      "metadata": {
        "id": "MQfAtrq8rQ0s"
      }
    },
    {
      "cell_type": "code",
      "source": [
        "# (1)\n",
        "#Do not change this function's name, parameters or output format. It will be used in automatic grading.\n",
        "def FizzBuzz(x):\n",
        "    answer =\"\"\n",
        "    if x %3==0 and not x%5==0:\n",
        "      answer=\"Fizz!\"\n",
        "    elif x%5==0 and not x%3==0:\n",
        "      answer=\"Buzz!\"\n",
        "    elif x%3 ==0 and x%5==0:\n",
        "      answer=\"FizzBuzz!\"\n",
        "    else:\n",
        "      answer=\"...\"\n",
        "    return answer"
      ],
      "metadata": {
        "id": "4kkesp9PQisR"
      },
      "execution_count": null,
      "outputs": []
    },
    {
      "cell_type": "code",
      "source": [
        "# (1)\n",
        "#Do not change this function's name, parameters or output format. It will be used in automatic grading.\n",
        "def FizzBuzzList(n):\n",
        "    ans = []\n",
        "    for i in range(1,n+1):\n",
        "        ans.append(FizzBuzz(i))\n",
        "    return ans"
      ],
      "metadata": {
        "id": "dIYchJvEZMEJ"
      },
      "execution_count": null,
      "outputs": []
    },
    {
      "cell_type": "code",
      "source": [
        "# (3)\n",
        "#Do not change this function's name, parameters or output format. It will be used in automatic grading.\n",
        "\n",
        "import numpy as np\n",
        "\n",
        "def standarize(X):\n",
        "  X_standarized = (X-X.mean())/X.std()# only one line of code\n",
        "  return X_standarized"
      ],
      "metadata": {
        "id": "vUf0_xqXgHSj"
      },
      "execution_count": null,
      "outputs": []
    },
    {
      "cell_type": "code",
      "source": [
        "# (4)\n",
        "#Do not change this function's name, parameters or output format. It will be used in automatic grading.\n",
        "\n",
        "import numpy as np\n",
        "\n",
        "def main_diagonal_matrix(A):\n",
        "  D = np.diag(np.diag(A)).astype(float)# only one line of code\n",
        "  return D"
      ],
      "metadata": {
        "id": "thogtwflo6-x"
      },
      "execution_count": null,
      "outputs": []
    }
  ]
}