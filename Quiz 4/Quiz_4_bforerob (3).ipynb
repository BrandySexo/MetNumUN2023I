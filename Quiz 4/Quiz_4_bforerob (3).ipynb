{
  "nbformat": 4,
  "nbformat_minor": 0,
  "metadata": {
    "colab": {
      "provenance": []
    },
    "kernelspec": {
      "name": "python3",
      "display_name": "Python 3"
    },
    "language_info": {
      "name": "python"
    }
  },
  "cells": [
    {
      "cell_type": "markdown",
      "source": [
        "**Quiz 4**"
      ],
      "metadata": {
        "id": "MQfAtrq8rQ0s"
      }
    },
    {
      "cell_type": "code",
      "source": [
        "# (1)\n",
        "#Do not change this function's name, parameters or output format. It will be used in automatic grading.\n",
        "def FizzBuzz(x):\n",
        "    answer =\"\"\n",
        "    if x %3==0 and not x%5==0:\n",
        "      answer=\"Fizz!\"\n",
        "    elif x%5==0 and not x%3==0:\n",
        "      answer=\"Buzz!\"\n",
        "    elif x%3 ==0 and x%5==0:\n",
        "      answer=\"FizzBuzz!\"\n",
        "    else:\n",
        "      answer=\"...\"\n",
        "    return answer\n",
        "print(FizzBuzz(3))\n",
        "print(FizzBuzz(7))\n",
        "print(FizzBuzz(5))\n",
        "print(FizzBuzz(11))\n",
        "print(FizzBuzz(15))"
      ],
      "metadata": {
        "id": "4kkesp9PQisR"
      },
      "execution_count": null,
      "outputs": []
    },
    {
      "cell_type": "markdown",
      "metadata": {
        "id": "gS8eqbf4X2Am"
      },
      "source": [
        "Expected output:\n",
        "``` \n",
        "Fizz!\n",
        "...\n",
        "Buzz!\n",
        "...\n",
        "FizzBuzz!\n",
        "```"
      ]
    },
    {
      "cell_type": "code",
      "source": [
        "# (1)\n",
        "#Do not change this function's name, parameters or output format. It will be used in automatic grading.\n",
        "def FizzBuzzList(n):\n",
        "    ans = []\n",
        "    for i in range(1,n+1):\n",
        "        ans.append(FizzBuzz(i))\n",
        "    return ans\n",
        "print(FizzBuzzList(5))\n",
        "print(FizzBuzzList(-30))"
      ],
      "metadata": {
        "id": "dIYchJvEZMEJ",
        "colab": {
          "base_uri": "https://localhost:8080/"
        },
        "outputId": "9576ed2e-c2fd-47d4-c702-0c73d1a3078b"
      },
      "execution_count": 20,
      "outputs": [
        {
          "output_type": "stream",
          "name": "stdout",
          "text": [
            "['...', '...', 'Fizz!', '...', 'Buzz!']\n",
            "[]\n"
          ]
        }
      ]
    },
    {
      "cell_type": "markdown",
      "source": [
        "Expected output:\n",
        "``` \n",
        "['...', '...', 'Fizz!', '...', 'Buzz!']\n",
        "[]\n",
        "```"
      ],
      "metadata": {
        "id": "rybnp7wcZu_K"
      }
    },
    {
      "cell_type": "code",
      "source": [
        "# (3)\n",
        "#Do not change this function's name, parameters or output format. It will be used in automatic grading.\n",
        "\n",
        "import numpy as np\n",
        "\n",
        "def standarize(X):\n",
        "  X_standarized = (X-X.mean())/X.std()# only one line of code\n",
        "  return X_standarized\n",
        "# run this sample testcases to help you validate your solution\n",
        "\n",
        "X0 = np.array([4.8, 4.0, 4.2, 4.0, 5.0])\n",
        "print(standarize(X0))\n",
        "\n",
        "#  --> Expected output: array([ 0.95346259, -0.95346259, -0.47673129, -0.95346259,  1.43019388])\n",
        "\n",
        "X1 = np.arange(5)\n",
        "print(standarize(X1))\n",
        "\n",
        "#  --> Expected output: array([-1.41421356, -0.70710678,  0.        ,  0.70710678,  1.41421356])"
      ],
      "metadata": {
        "id": "vUf0_xqXgHSj",
        "colab": {
          "base_uri": "https://localhost:8080/"
        },
        "outputId": "6826950d-ba0b-4424-cde5-4e7a4bd9d9f0"
      },
      "execution_count": 19,
      "outputs": [
        {
          "output_type": "stream",
          "name": "stdout",
          "text": [
            "[ 0.95346259 -0.95346259 -0.47673129 -0.95346259  1.43019388]\n",
            "[-1.41421356 -0.70710678  0.          0.70710678  1.41421356]\n"
          ]
        }
      ]
    },
    {
      "cell_type": "code",
      "source": [
        "# (4)\n",
        "#Do not change this function's name, parameters or output format. It will be used in automatic grading.\n",
        "\n",
        "import numpy as np\n",
        "\n",
        "def main_diagonal_matrix(A):\n",
        "  D = np.diag(np.diag(A)).astype(float)# only one line of code\n",
        "  return D\n",
        "# run this sample testcases to help you validate your solution\n",
        "\n",
        "A = np.array([\n",
        "    [1, 0, 2, 9, 2],\n",
        "    [9, 2, 6, 5, 7],\n",
        "    [6, 4, 3, 4, 7]\n",
        "\n",
        "])\n",
        "print(main_diagonal_matrix(A))\n",
        "#  --> Expected output: \n",
        "#array([[1., 0., 0.],\n",
        "#       [0., 2., 0.],\n",
        "#       [0., 0., 3.]])\n",
        "\n",
        "A = np.array([\n",
        "    [4, 0, 2],\n",
        "    [9, 5, 6],\n",
        "    [1, 9, 6],\n",
        "    [3, 0, 5]\n",
        "\n",
        "])\n",
        "print(main_diagonal_matrix(A))\n",
        "#  --> Expected output: \n",
        "#array([[4., 0., 0.],\n",
        "#       [0., 5., 0.],\n",
        "#       [0., 0., 6.]])"
      ],
      "metadata": {
        "id": "thogtwflo6-x",
        "colab": {
          "base_uri": "https://localhost:8080/"
        },
        "outputId": "cb36eebd-c608-428a-d354-eaa4004bf20d"
      },
      "execution_count": 18,
      "outputs": [
        {
          "output_type": "stream",
          "name": "stdout",
          "text": [
            "[[1. 0. 0.]\n",
            " [0. 2. 0.]\n",
            " [0. 0. 3.]]\n",
            "[[4. 0. 0.]\n",
            " [0. 5. 0.]\n",
            " [0. 0. 6.]]\n"
          ]
        }
      ]
    }
  ]
}